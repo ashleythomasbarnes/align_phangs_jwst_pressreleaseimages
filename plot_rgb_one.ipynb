{
 "cells": [
  {
   "cell_type": "code",
   "execution_count": 2,
   "metadata": {},
   "outputs": [],
   "source": [
    "from astropy.io import fits\n",
    "import matplotlib.pyplot as plt\n",
    "import matplotlib.pyplot as plt\n",
    "import warnings\n",
    "\n",
    "from astropy.wcs import WCS\n",
    "import cv2\n",
    "from glob import glob\n",
    "\n",
    "warnings.filterwarnings(\"ignore\")\n",
    "plt.style.use('paper')"
   ]
  },
  {
   "cell_type": "code",
   "execution_count": 6,
   "metadata": {},
   "outputs": [],
   "source": [
    "input_dir = '/Users/abarnes/Dropbox/work/Smallprojects/galaxies/scratch/jwst_pressreleaseimages/'\n",
    "output_dir = './check_plots/'"
   ]
  },
  {
   "cell_type": "code",
   "execution_count": 7,
   "metadata": {},
   "outputs": [
    {
     "name": "stderr",
     "output_type": "stream",
     "text": [
      "libpng warning: iCCP: known incorrect sRGB profile\n"
     ]
    }
   ],
   "source": [
    "# Define the region show... \n",
    "l = 65.0028456\n",
    "b = -54.9368264\n",
    "width = 0.0289955\n",
    "height = 0.0578610\n",
    "\n",
    "gal = 'ngc4254'\n",
    "\n",
    "hdu_file = f'{input_dir}/jwst_wcs/{gal}_nircam_lv3_f335m_i2d.fits'\n",
    "png_file = f'{input_dir}/jwst_northUp/{gal}_northUp.png'\n",
    "\n",
    "hdu = fits.open(hdu_file)[1]\n",
    "img1 = cv2.imread(png_file, cv2.IMREAD_UNCHANGED)[::-1, :, ::-1]\n",
    "\n",
    "fig = plt.figure(figsize=(10, 10))\n",
    "\n",
    "ax1 = fig.add_subplot(221, projection=WCS(hdu.header))\n",
    "\n",
    "ax1.imshow(img1, origin='lower')\n",
    "\n",
    "ax1.set_title('JWST (PR)', weight='bold')\n",
    "\n",
    "ax1.set_xlabel('RA')\n",
    "ax1.set_ylabel('Dec')\n",
    "ax1.grid(True, alpha=0.3, ls=':', color='white')\n",
    "\n",
    "ra = ax1.coords['ra']\n",
    "dec = ax1.coords['dec']\n",
    "\n",
    "ra.set_major_formatter('d.dd')\n",
    "dec.set_major_formatter('d.dd')\n",
    "\n",
    "fig.savefig(f'{output_dir}/{gal}_single_hq.png', dpi=300)\n",
    "fig.savefig(f'{output_dir}/{gal}_single.jpeg', dpi=200)\n",
    "\n",
    "plt.close('all')"
   ]
  }
 ],
 "metadata": {
  "kernelspec": {
   "display_name": "base",
   "language": "python",
   "name": "python3"
  },
  "language_info": {
   "codemirror_mode": {
    "name": "ipython",
    "version": 3
   },
   "file_extension": ".py",
   "mimetype": "text/x-python",
   "name": "python",
   "nbconvert_exporter": "python",
   "pygments_lexer": "ipython3",
   "version": "3.9.13"
  }
 },
 "nbformat": 4,
 "nbformat_minor": 2
}
