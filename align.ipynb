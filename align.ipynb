{
 "cells": [
  {
   "cell_type": "code",
   "execution_count": 1,
   "metadata": {},
   "outputs": [],
   "source": [
    "import cv2\n",
    "import numpy as np\n",
    "import matplotlib.pyplot as plt\n",
    "from astropy.io import fits\n",
    "from glob import glob\n",
    "import os\n",
    "import warnings\n",
    "warnings.filterwarnings('ignore')"
   ]
  },
  {
   "cell_type": "code",
   "execution_count": null,
   "metadata": {},
   "outputs": [],
   "source": [
    "def print_transformation(matrix):\n",
    "\n",
    "    \"\"\" \n",
    "    \"\"\"\n",
    "\n",
    "    # Assuming `matrix` is the 2x3 affine transformation matrix\n",
    "    a, b, tx = matrix[0]\n",
    "    c, d, ty = matrix[1]\n",
    "\n",
    "    # Translation (offset)\n",
    "    translation_x = tx\n",
    "    translation_y = ty\n",
    "\n",
    "    # Rotation angle\n",
    "    rotation_angle = np.degrees(np.arctan2(c, a))\n",
    "\n",
    "    # Optional: Scale\n",
    "    scale_x = np.sqrt(a**2 + c**2)\n",
    "    scale_y = np.sqrt(b**2 + d**2)\n",
    "\n",
    "    print(f\"[INFO] Translation: ({translation_x}, {translation_y})\")\n",
    "    print(f\"[INFO] Rotation Angle: {rotation_angle} degrees\")\n",
    "    print(f\"[INFO] Scale: ({scale_x}, {scale_y})\")\n",
    "\n",
    "def align_images(image1, image2, verbose=False):  \n",
    "\n",
    "    \"\"\" \n",
    "    \"\"\"\n",
    "\n",
    "    # Convert to grayscale\n",
    "    gray1 = cv2.cvtColor(image1, cv2.COLOR_BGR2GRAY)\n",
    "    gray2 = cv2.cvtColor(image2, cv2.COLOR_BGR2GRAY)\n",
    "\n",
    "    # Feature detection and matching\n",
    "    sift = cv2.SIFT_create()\n",
    "    keypoints1, descriptors1 = sift.detectAndCompute(gray1, None)\n",
    "    keypoints2, descriptors2 = sift.detectAndCompute(gray2, None)\n",
    "\n",
    "    bf = cv2.BFMatcher(cv2.NORM_L2, crossCheck=False)\n",
    "    matches = bf.knnMatch(descriptors1, descriptors2, k=2)\n",
    "\n",
    "    # Lowe's ratio test\n",
    "    good_matches = [m for m, n in matches if m.distance < 0.75 * n.distance]\n",
    "\n",
    "    # Extract matched points\n",
    "    src_pts = np.float32([keypoints1[m.queryIdx].pt for m in good_matches]).reshape(-1, 1, 2)\n",
    "    dst_pts = np.float32([keypoints2[m.trainIdx].pt for m in good_matches]).reshape(-1, 1, 2)\n",
    "\n",
    "    # Compute the homography matrix\n",
    "    matrix, mask = cv2.findHomography(dst_pts, src_pts, cv2.RANSAC, 5.0)\n",
    "\n",
    "    # Get the size of the reference image\n",
    "    height, width = image1.shape[:2]\n",
    "\n",
    "    if verbose:\n",
    "        print_transformation(matrix)\n",
    "\n",
    "    return(matrix, height, width)"
   ]
  },
  {
   "cell_type": "code",
   "execution_count": 6,
   "metadata": {},
   "outputs": [],
   "source": [
    "input_dir = '/Users/abarnes/Dropbox/work/Smallprojects/galaxies/scratch/jwst_pressreleaseimages/'\n",
    "\n",
    "input_files1 = glob(f'{input_dir}/jwst_northUp/*.png')\n",
    "gals = [input_file1.split('/')[-1].split('_')[0] for input_file1 in input_files1]\n",
    "gals = ['ngc1566']"
   ]
  },
  {
   "cell_type": "code",
   "execution_count": 7,
   "metadata": {},
   "outputs": [
    {
     "name": "stdout",
     "output_type": "stream",
     "text": [
      "[INFO] Processing: ngc1566\n"
     ]
    },
    {
     "name": "stderr",
     "output_type": "stream",
     "text": [
      "libpng warning: iCCP: known incorrect sRGB profile\n",
      "libpng warning: iCCP: known incorrect sRGB profile\n",
      "libpng warning: iCCP: known incorrect sRGB profile\n",
      "libpng warning: iCCP: known incorrect sRGB profile\n"
     ]
    }
   ],
   "source": [
    "for gal in gals: \n",
    "\n",
    "    print(f'[INFO] Processing: {gal}')\n",
    "\n",
    "    input_file1 = f'{input_dir}/jwst_northUP/{gal}_northUP.png'\n",
    "    input_file2 = f'{input_dir}/jwst/{gal}_jwst.png'\n",
    "    input_file3 = f'{input_dir}/jwsthst/{gal}_jwsthst.png'\n",
    "    input_file4 = f'{input_dir}/hst/{gal}_hst.png'\n",
    "\n",
    "    # check if files exist\n",
    "    if not os.path.isfile(input_file1):\n",
    "        print(f'[INFO] {input_file1} does not exist')\n",
    "        continue\n",
    "    if not os.path.isfile(input_file2):\n",
    "        print(f'[INFO] {input_file2} does not exist')\n",
    "        continue\n",
    "    if not os.path.isfile(input_file3):\n",
    "        print(f'[INFO] {input_file3} does not exist')\n",
    "        continue\n",
    "    if not os.path.isfile(input_file4):\n",
    "        print(f'[INFO] {input_file4} does not exist')\n",
    "        continue\n",
    "\n",
    "    image1 = cv2.imread(input_file1, cv2.IMREAD_COLOR)\n",
    "    image2 = cv2.imread(input_file2, cv2.IMREAD_COLOR)\n",
    "    image3 = cv2.imread(input_file3, cv2.IMREAD_COLOR)\n",
    "    image4 = cv2.imread(input_file4, cv2.IMREAD_COLOR)\n",
    "\n",
    "    matrix, height, width = align_images(image1, image2)\n",
    "\n",
    "    # Warp the second image to align with the first\n",
    "    image2_align = cv2.warpPerspective(image2, matrix, (width, height))\n",
    "    image3_align = cv2.warpPerspective(image3, matrix, (width, height))\n",
    "    image4_align = cv2.warpPerspective(image4, matrix, (width, height))\n",
    "\n",
    "    output_file2 = input_file2.replace('/jwst/', '/jwst_northUp_check/')\n",
    "    output_file2 = output_file2.replace('_jwst.png', '_jwst_northUp.png')\n",
    "    output_file3 = input_file3.replace('jwsthst', 'jwsthst_northUp')\n",
    "    output_file4 = input_file4.replace('hst', 'hst_northUp')\n",
    "\n",
    "    cv2.imwrite(output_file2, image2_align)\n",
    "    cv2.imwrite(output_file3, image3_align)\n",
    "    cv2.imwrite(output_file4, image4_align)"
   ]
  },
  {
   "cell_type": "code",
   "execution_count": 5,
   "metadata": {},
   "outputs": [
    {
     "name": "stdout",
     "output_type": "stream",
     "text": [
      "open jwst_northUp/ngc3627_northUp.png jwst_northUp_check/ngc3627_jwst_northUp.png\n",
      "open jwst_northUp/ngc1433_northUp.png jwst_northUp_check/ngc1433_jwst_northUp.png\n",
      "open jwst_northUp/ngc0628_northUp.png jwst_northUp_check/ngc0628_jwst_northUp.png\n",
      "open jwst_northUp/ngc1385_northUp.png jwst_northUp_check/ngc1385_jwst_northUp.png\n",
      "open jwst_northUp/ngc1566_northUp.png jwst_northUp_check/ngc1566_jwst_northUp.png\n",
      "open jwst_northUp/ngc4254_northUp.png jwst_northUp_check/ngc4254_jwst_northUp.png\n",
      "open jwst_northUp/ngc7496_northUp.png jwst_northUp_check/ngc7496_jwst_northUp.png\n",
      "open jwst_northUp/ngc5068_northUp.png jwst_northUp_check/ngc5068_jwst_northUp.png\n",
      "open jwst_northUp/ngc1300_northUp.png jwst_northUp_check/ngc1300_jwst_northUp.png\n",
      "open jwst_northUp/ngc1365_northUp.png jwst_northUp_check/ngc1365_jwst_northUp.png\n",
      "open jwst_northUp/ngc2835_northUp.png jwst_northUp_check/ngc2835_jwst_northUp.png\n",
      "open jwst_northUp/ngc1672_northUp.png jwst_northUp_check/ngc1672_jwst_northUp.png\n",
      "open jwst_northUp/ngc3351_northUp.png jwst_northUp_check/ngc3351_jwst_northUp.png\n",
      "open jwst_northUp/ngc1512_northUp.png jwst_northUp_check/ngc1512_jwst_northUp.png\n",
      "open jwst_northUp/ngc4321_northUp.png jwst_northUp_check/ngc4321_jwst_northUp.png\n",
      "open jwst_northUp/ngc4535_northUp.png jwst_northUp_check/ngc4535_jwst_northUp.png\n",
      "open jwst_northUp/ic5332_northUp.png jwst_northUp_check/ic5332_jwst_northUp.png\n",
      "open jwst_northUp/ngc1087_northUp.png jwst_northUp_check/ngc1087_jwst_northUp.png\n"
     ]
    }
   ],
   "source": [
    "for gal in gals:\n",
    "    print(f'open jwst_northUp/{gal}_northUp.png jwst_northUp_check/{gal}_jwst_northUp.png')"
   ]
  },
  {
   "cell_type": "code",
   "execution_count": null,
   "metadata": {},
   "outputs": [],
   "source": []
  }
 ],
 "metadata": {
  "kernelspec": {
   "display_name": "base",
   "language": "python",
   "name": "python3"
  },
  "language_info": {
   "codemirror_mode": {
    "name": "ipython",
    "version": 3
   },
   "file_extension": ".py",
   "mimetype": "text/x-python",
   "name": "python",
   "nbconvert_exporter": "python",
   "pygments_lexer": "ipython3",
   "version": "3.9.13"
  }
 },
 "nbformat": 4,
 "nbformat_minor": 2
}
